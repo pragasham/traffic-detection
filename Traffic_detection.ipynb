{
  "nbformat": 4,
  "nbformat_minor": 0,
  "metadata": {
    "colab": {
      "provenance": [],
      "gpuType": "T4"
    },
    "kernelspec": {
      "name": "python3",
      "display_name": "Python 3"
    },
    "language_info": {
      "name": "python"
    },
    "accelerator": "GPU"
  },
  "cells": [
    {
      "cell_type": "code",
      "execution_count": 1,
      "metadata": {
        "colab": {
          "base_uri": "https://localhost:8080/"
        },
        "id": "6VrX0gsO1sbq",
        "outputId": "109dd2a9-13d1-4381-e751-79b703cab141"
      },
      "outputs": [
        {
          "output_type": "stream",
          "name": "stdout",
          "text": [
            "Cloning into 'yolov10'...\n",
            "remote: Enumerating objects: 20304, done.\u001b[K\n",
            "remote: Counting objects: 100% (1502/1502), done.\u001b[K\n",
            "remote: Compressing objects: 100% (154/154), done.\u001b[K\n",
            "remote: Total 20304 (delta 1438), reused 1348 (delta 1348), pack-reused 18802\u001b[K\n",
            "Receiving objects: 100% (20304/20304), 11.17 MiB | 23.53 MiB/s, done.\n",
            "Resolving deltas: 100% (14314/14314), done.\n"
          ]
        }
      ],
      "source": [
        "!git clone https://github.com/THU-MIG/yolov10.git"
      ]
    },
    {
      "cell_type": "code",
      "source": [
        "%cd yolov10"
      ],
      "metadata": {
        "colab": {
          "base_uri": "https://localhost:8080/"
        },
        "id": "ZVYzeKMP2Hjg",
        "outputId": "1c96cef2-db77-4d32-88d4-9f29579bcd6b"
      },
      "execution_count": 2,
      "outputs": [
        {
          "output_type": "stream",
          "name": "stdout",
          "text": [
            "/content/yolov10\n"
          ]
        }
      ]
    },
    {
      "cell_type": "code",
      "source": [
        "!pip install -q ."
      ],
      "metadata": {
        "colab": {
          "base_uri": "https://localhost:8080/"
        },
        "id": "vkejyPac2O2f",
        "outputId": "037cb274-5c99-4a30-ffa8-8ac35fa97fcc"
      },
      "execution_count": 3,
      "outputs": [
        {
          "output_type": "stream",
          "name": "stdout",
          "text": [
            "  Installing build dependencies ... \u001b[?25l\u001b[?25hdone\n",
            "  Getting requirements to build wheel ... \u001b[?25l\u001b[?25hdone\n",
            "  Preparing metadata (pyproject.toml) ... \u001b[?25l\u001b[?25hdone\n",
            "\u001b[2K     \u001b[90m━━━━━━━━━━━━━━━━━━━━━━━━━━━━━━━━━━━━━━━━\u001b[0m \u001b[32m21.3/21.3 MB\u001b[0m \u001b[31m55.9 MB/s\u001b[0m eta \u001b[36m0:00:00\u001b[0m\n",
            "\u001b[?25h  Building wheel for ultralytics (pyproject.toml) ... \u001b[?25l\u001b[?25hdone\n"
          ]
        }
      ]
    },
    {
      "cell_type": "code",
      "source": [
        "import os"
      ],
      "metadata": {
        "id": "OxE6bq-92YPU"
      },
      "execution_count": 4,
      "outputs": []
    },
    {
      "cell_type": "code",
      "source": [
        "import urllib.request"
      ],
      "metadata": {
        "id": "io6R3kYg3X8N"
      },
      "execution_count": 5,
      "outputs": []
    },
    {
      "cell_type": "code",
      "source": [
        "weights_dir=os.path.join(os.getcwd(),'weights')"
      ],
      "metadata": {
        "id": "cFEFLJ0k3b-I"
      },
      "execution_count": 6,
      "outputs": []
    },
    {
      "cell_type": "code",
      "source": [
        "os.makedirs(weights_dir,exist_ok=True)"
      ],
      "metadata": {
        "id": "xuwaM2NF3l-c"
      },
      "execution_count": 7,
      "outputs": []
    },
    {
      "cell_type": "code",
      "source": [
        "urls=[\"https://github.com/THU-MIG/yolov10/releases/download/v1.1/yolov10n.pt\",\"https://github.com/THU-MIG/yolov10/releases/download/v1.1/yolov10s.pt\",\"https://github.com/THU-MIG/yolov10/releases/download/v1.1/yolov10m.pt\",\"https://github.com/THU-MIG/yolov10/releases/download/v1.1/yolov10b.pt\",\"https://github.com/THU-MIG/yolov10/releases/download/v1.1/yolov10l.pt\",\"https://github.com/THU-MIG/yolov10/releases/download/v1.1/yolov10x.pt\"]"
      ],
      "metadata": {
        "id": "cnB2Jh2X3tZz"
      },
      "execution_count": 8,
      "outputs": []
    },
    {
      "cell_type": "code",
      "source": [
        "for url in urls:\n",
        "  filename=os.path.basename(url)\n",
        "  filepath=os.path.join(weights_dir,filename)\n",
        "  urllib.request.urlretrieve(url,filepath)\n",
        "  print(f\"Downloaded: {filepath}\")"
      ],
      "metadata": {
        "colab": {
          "base_uri": "https://localhost:8080/"
        },
        "id": "0qcdKH9Q3v_C",
        "outputId": "df03b07f-17db-4303-c1db-beba6f582b6d"
      },
      "execution_count": 12,
      "outputs": [
        {
          "output_type": "stream",
          "name": "stdout",
          "text": [
            "Downloaded: /content/yolov10/weights/yolov10n.pt\n",
            "Downloaded: /content/yolov10/weights/yolov10s.pt\n",
            "Downloaded: /content/yolov10/weights/yolov10m.pt\n",
            "Downloaded: /content/yolov10/weights/yolov10b.pt\n",
            "Downloaded: /content/yolov10/weights/yolov10l.pt\n",
            "Downloaded: /content/yolov10/weights/yolov10x.pt\n"
          ]
        }
      ]
    },
    {
      "cell_type": "code",
      "source": [
        "!gdown \"https://drive.google.com/file/d/1SVY0R_godLj_BxblU-oNv-rPGKlvLmWb/view?usp=drivesdk\""
      ],
      "metadata": {
        "colab": {
          "base_uri": "https://localhost:8080/"
        },
        "id": "ysDUc6Yd4y-L",
        "outputId": "999564c3-bd10-41f1-f9dd-27911cd93fcc"
      },
      "execution_count": 13,
      "outputs": [
        {
          "output_type": "stream",
          "name": "stdout",
          "text": [
            "/usr/local/lib/python3.10/dist-packages/gdown/parse_url.py:48: UserWarning: You specified a Google Drive link that is not the correct link to download a file. You might want to try `--fuzzy` option or the following url: https://drive.google.com/uc?id=1SVY0R_godLj_BxblU-oNv-rPGKlvLmWb\n",
            "  warnings.warn(\n",
            "Downloading...\n",
            "From: https://drive.google.com/file/d/1SVY0R_godLj_BxblU-oNv-rPGKlvLmWb/view?usp=drivesdk\n",
            "To: /content/yolov10/view?usp=drivesdk\n",
            "85.8kB [00:00, 40.4MB/s]\n"
          ]
        }
      ]
    },
    {
      "cell_type": "code",
      "source": [
        "!yolo task=detect mode=predict save=True model=weights/yolov10x.pt source=\"mams.jpg\""
      ],
      "metadata": {
        "colab": {
          "base_uri": "https://localhost:8080/"
        },
        "id": "09seaVX77SGR",
        "outputId": "6c41a578-ddbe-40b7-92c8-2ebb11fc6c2c"
      },
      "execution_count": 14,
      "outputs": [
        {
          "output_type": "stream",
          "name": "stdout",
          "text": [
            "Ultralytics YOLOv8.1.34 🚀 Python-3.10.12 torch-2.3.0+cu121 CUDA:0 (Tesla T4, 15102MiB)\n",
            "YOLOv10x summary (fused): 503 layers, 31738160 parameters, 185184 gradients, 170.6 GFLOPs\n",
            "\n",
            "image 1/1 /content/yolov10/mams.jpg: 416x640 7 persons, 1 train, 2 traffic lights, 1 backpack, 2 handbags, 109.5ms\n",
            "Speed: 14.9ms preprocess, 109.5ms inference, 368.5ms postprocess per image at shape (1, 3, 416, 640)\n",
            "Results saved to \u001b[1mruns/detect/predict\u001b[0m\n",
            "💡 Learn more at https://docs.ultralytics.com/modes/predict\n"
          ]
        }
      ]
    },
    {
      "cell_type": "code",
      "source": [
        "from IPython.display import Image"
      ],
      "metadata": {
        "id": "zJcaF66I55FB"
      },
      "execution_count": 15,
      "outputs": []
    },
    {
      "cell_type": "code",
      "source": [
        "Image(filename='/content/yolov10/runs/detect/predict/mams.jpg')"
      ],
      "metadata": {
        "colab": {
          "base_uri": "https://localhost:8080/",
          "height": 194
        },
        "id": "W6UNOhvG8yz8",
        "outputId": "a5879167-e29f-4a08-df19-c1b99ae1e61f"
      },
      "execution_count": 16,
      "outputs": [
        {
          "output_type": "execute_result",
          "data": {
            "image/jpeg": "[encoded data removed]",
            "text/plain": [
              "<IPython.core.display.Image object>"
            ]
          },
          "metadata": {},
          "execution_count": 16
        }
      ]
    },
    {
      "cell_type": "code",
      "source": [
        "!yolo task=detect mode=predict save=True model=weights/yolov10x.pt source=\"video.mp4\""
      ],
      "metadata": {
        "colab": {
          "base_uri": "https://localhost:8080/"
        },
        "id": "qUvW4dW98--E",
        "outputId": "beb9265e-e8d1-4b5c-ccd2-df96d5e82d9b"
      },
      "execution_count": 18,
      "outputs": [
        {
          "output_type": "stream",
          "name": "stdout",
          "text": [
            "Ultralytics YOLOv8.1.34 🚀 Python-3.10.12 torch-2.3.0+cu121 CUDA:0 (Tesla T4, 15102MiB)\n",
            "YOLOv10x summary (fused): 503 layers, 31738160 parameters, 185184 gradients, 170.6 GFLOPs\n",
            "\n",
            "video 1/1 (frame 1/313) /content/yolov10/video.mp4: 384x640 1 person, 12 cars, 4 buss, 1 truck, 120.7ms\n",
            "video 1/1 (frame 2/313) /content/yolov10/video.mp4: 384x640 1 person, 12 cars, 4 buss, 1 truck, 48.5ms\n",
            "video 1/1 (frame 3/313) /content/yolov10/video.mp4: 384x640 1 person, 12 cars, 4 buss, 1 truck, 48.5ms\n",
            "video 1/1 (frame 4/313) /content/yolov10/video.mp4: 384x640 13 cars, 4 buss, 48.5ms\n",
            "video 1/1 (frame 5/313) /content/yolov10/video.mp4: 384x640 13 cars, 4 buss, 48.5ms\n",
            "video 1/1 (frame 6/313) /content/yolov10/video.mp4: 384x640 1 person, 12 cars, 4 buss, 29.1ms\n",
            "video 1/1 (frame 7/313) /content/yolov10/video.mp4: 384x640 1 person, 13 cars, 5 buss, 29.0ms\n",
            "video 1/1 (frame 8/313) /content/yolov10/video.mp4: 384x640 1 person, 12 cars, 4 buss, 27.9ms\n",
            "video 1/1 (frame 9/313) /content/yolov10/video.mp4: 384x640 1 person, 12 cars, 4 buss, 27.9ms\n",
            "video 1/1 (frame 10/313) /content/yolov10/video.mp4: 384x640 12 cars, 5 buss, 26.5ms\n",
            "video 1/1 (frame 11/313) /content/yolov10/video.mp4: 384x640 1 person, 13 cars, 4 buss, 24.3ms\n",
            "video 1/1 (frame 12/313) /content/yolov10/video.mp4: 384x640 1 person, 14 cars, 4 buss, 23.8ms\n",
            "video 1/1 (frame 13/313) /content/yolov10/video.mp4: 384x640 1 person, 15 cars, 4 buss, 24.3ms\n",
            "video 1/1 (frame 14/313) /content/yolov10/video.mp4: 384x640 1 person, 12 cars, 4 buss, 24.4ms\n",
            "video 1/1 (frame 15/313) /content/yolov10/video.mp4: 384x640 1 person, 14 cars, 5 buss, 24.7ms\n",
            "video 1/1 (frame 16/313) /content/yolov10/video.mp4: 384x640 1 person, 14 cars, 4 buss, 24.1ms\n",
            "video 1/1 (frame 17/313) /content/yolov10/video.mp4: 384x640 1 person, 14 cars, 4 buss, 24.4ms\n",
            "video 1/1 (frame 18/313) /content/yolov10/video.mp4: 384x640 13 cars, 4 buss, 24.3ms\n",
            "video 1/1 (frame 19/313) /content/yolov10/video.mp4: 384x640 13 cars, 4 buss, 24.1ms\n",
            "video 1/1 (frame 20/313) /content/yolov10/video.mp4: 384x640 13 cars, 5 buss, 24.9ms\n",
            "video 1/1 (frame 21/313) /content/yolov10/video.mp4: 384x640 12 cars, 4 buss, 24.5ms\n",
            "video 1/1 (frame 22/313) /content/yolov10/video.mp4: 384x640 12 cars, 4 buss, 24.7ms\n",
            "video 1/1 (frame 23/313) /content/yolov10/video.mp4: 384x640 13 cars, 4 buss, 24.5ms\n",
            "video 1/1 (frame 24/313) /content/yolov10/video.mp4: 384x640 12 cars, 4 buss, 24.8ms\n",
            "video 1/1 (frame 25/313) /content/yolov10/video.mp4: 384x640 13 cars, 4 buss, 25.3ms\n",
            "video 1/1 (frame 26/313) /content/yolov10/video.mp4: 384x640 13 cars, 4 buss, 25.0ms\n",
            "video 1/1 (frame 27/313) /content/yolov10/video.mp4: 384x640 11 cars, 4 buss, 24.0ms\n",
            "video 1/1 (frame 28/313) /content/yolov10/video.mp4: 384x640 11 cars, 4 buss, 24.7ms\n",
            "video 1/1 (frame 29/313) /content/yolov10/video.mp4: 384x640 10 cars, 4 buss, 24.2ms\n",
            "video 1/1 (frame 30/313) /content/yolov10/video.mp4: 384x640 10 cars, 4 buss, 24.1ms\n",
            "video 1/1 (frame 31/313) /content/yolov10/video.mp4: 384x640 10 cars, 4 buss, 24.1ms\n",
            "video 1/1 (frame 32/313) /content/yolov10/video.mp4: 384x640 10 cars, 4 buss, 24.0ms\n",
            "video 1/1 (frame 33/313) /content/yolov10/video.mp4: 384x640 10 cars, 4 buss, 24.0ms\n",
            "video 1/1 (frame 34/313) /content/yolov10/video.mp4: 384x640 10 cars, 4 buss, 24.3ms\n",
            "video 1/1 (frame 35/313) /content/yolov10/video.mp4: 384x640 10 cars, 4 buss, 24.4ms\n",
            "video 1/1 (frame 36/313) /content/yolov10/video.mp4: 384x640 10 cars, 4 buss, 24.8ms\n",
            "video 1/1 (frame 37/313) /content/yolov10/video.mp4: 384x640 10 cars, 4 buss, 24.4ms\n",
            "video 1/1 (frame 38/313) /content/yolov10/video.mp4: 384x640 10 cars, 4 buss, 24.4ms\n",
            "video 1/1 (frame 39/313) /content/yolov10/video.mp4: 384x640 10 cars, 4 buss, 24.8ms\n",
            "video 1/1 (frame 40/313) /content/yolov10/video.mp4: 384x640 11 cars, 4 buss, 24.8ms\n",
            "video 1/1 (frame 41/313) /content/yolov10/video.mp4: 384x640 10 cars, 4 buss, 24.9ms\n",
            "video 1/1 (frame 42/313) /content/yolov10/video.mp4: 384x640 10 cars, 4 buss, 24.3ms\n",
            "video 1/1 (frame 43/313) /content/yolov10/video.mp4: 384x640 10 cars, 4 buss, 24.3ms\n",
            "video 1/1 (frame 44/313) /content/yolov10/video.mp4: 384x640 10 cars, 4 buss, 24.6ms\n",
            "video 1/1 (frame 45/313) /content/yolov10/video.mp4: 384x640 10 cars, 4 buss, 24.8ms\n",
            "video 1/1 (frame 46/313) /content/yolov10/video.mp4: 384x640 10 cars, 5 buss, 1 truck, 24.9ms\n",
            "video 1/1 (frame 47/313) /content/yolov10/video.mp4: 384x640 10 cars, 4 buss, 1 truck, 24.6ms\n",
            "video 1/1 (frame 48/313) /content/yolov10/video.mp4: 384x640 11 cars, 4 buss, 1 truck, 24.4ms\n",
            "video 1/1 (frame 49/313) /content/yolov10/video.mp4: 384x640 10 cars, 4 buss, 1 truck, 24.1ms\n",
            "video 1/1 (frame 50/313) /content/yolov10/video.mp4: 384x640 11 cars, 5 buss, 1 truck, 24.2ms\n",
            "video 1/1 (frame 51/313) /content/yolov10/video.mp4: 384x640 10 cars, 5 buss, 1 truck, 24.2ms\n",
            "video 1/1 (frame 52/313) /content/yolov10/video.mp4: 384x640 10 cars, 4 buss, 1 truck, 24.0ms\n",
            "video 1/1 (frame 53/313) /content/yolov10/video.mp4: 384x640 10 cars, 5 buss, 1 truck, 23.9ms\n",
            "video 1/1 (frame 54/313) /content/yolov10/video.mp4: 384x640 10 cars, 4 buss, 1 truck, 23.6ms\n",
            "video 1/1 (frame 55/313) /content/yolov10/video.mp4: 384x640 10 cars, 5 buss, 1 truck, 23.7ms\n",
            "video 1/1 (frame 56/313) /content/yolov10/video.mp4: 384x640 10 cars, 4 buss, 1 truck, 24.1ms\n",
            "video 1/1 (frame 57/313) /content/yolov10/video.mp4: 384x640 10 cars, 4 buss, 1 truck, 24.0ms\n",
            "video 1/1 (frame 58/313) /content/yolov10/video.mp4: 384x640 10 cars, 4 buss, 1 truck, 24.3ms\n",
            "video 1/1 (frame 59/313) /content/yolov10/video.mp4: 384x640 10 cars, 5 buss, 1 truck, 24.4ms\n",
            "video 1/1 (frame 60/313) /content/yolov10/video.mp4: 384x640 10 cars, 5 buss, 1 truck, 24.4ms\n",
            "video 1/1 (frame 61/313) /content/yolov10/video.mp4: 384x640 11 cars, 5 buss, 1 truck, 24.6ms\n",
            "video 1/1 (frame 62/313) /content/yolov10/video.mp4: 384x640 11 cars, 4 buss, 1 truck, 24.6ms\n",
            "video 1/1 (frame 63/313) /content/yolov10/video.mp4: 384x640 11 cars, 4 buss, 1 truck, 24.3ms\n",
            "video 1/1 (frame 64/313) /content/yolov10/video.mp4: 384x640 11 cars, 5 buss, 2 trucks, 24.1ms\n",
            "video 1/1 (frame 65/313) /content/yolov10/video.mp4: 384x640 11 cars, 4 buss, 1 truck, 24.4ms\n",
            "video 1/1 (frame 66/313) /content/yolov10/video.mp4: 384x640 10 cars, 4 buss, 1 truck, 24.9ms\n",
            "video 1/1 (frame 67/313) /content/yolov10/video.mp4: 384x640 10 cars, 4 buss, 1 truck, 24.5ms\n",
            "video 1/1 (frame 68/313) /content/yolov10/video.mp4: 384x640 11 cars, 4 buss, 1 truck, 24.9ms\n",
            "video 1/1 (frame 69/313) /content/yolov10/video.mp4: 384x640 11 cars, 4 buss, 1 truck, 24.9ms\n",
            "video 1/1 (frame 70/313) /content/yolov10/video.mp4: 384x640 11 cars, 4 buss, 1 truck, 24.6ms\n",
            "video 1/1 (frame 71/313) /content/yolov10/video.mp4: 384x640 11 cars, 4 buss, 1 truck, 24.4ms\n",
            "video 1/1 (frame 72/313) /content/yolov10/video.mp4: 384x640 10 cars, 4 buss, 1 truck, 24.1ms\n",
            "video 1/1 (frame 73/313) /content/yolov10/video.mp4: 384x640 10 cars, 4 buss, 1 truck, 25.0ms\n",
            "video 1/1 (frame 74/313) /content/yolov10/video.mp4: 384x640 10 cars, 4 buss, 1 truck, 28.4ms\n",
            "video 1/1 (frame 75/313) /content/yolov10/video.mp4: 384x640 10 cars, 4 buss, 1 truck, 25.9ms\n",
            "video 1/1 (frame 76/313) /content/yolov10/video.mp4: 384x640 10 cars, 4 buss, 1 truck, 24.0ms\n",
            "video 1/1 (frame 77/313) /content/yolov10/video.mp4: 384x640 11 cars, 4 buss, 1 truck, 23.2ms\n",
            "video 1/1 (frame 78/313) /content/yolov10/video.mp4: 384x640 11 cars, 5 buss, 1 truck, 28.8ms\n",
            "video 1/1 (frame 79/313) /content/yolov10/video.mp4: 384x640 11 cars, 4 buss, 1 truck, 24.4ms\n",
            "video 1/1 (frame 80/313) /content/yolov10/video.mp4: 384x640 12 cars, 4 buss, 1 truck, 24.3ms\n",
            "video 1/1 (frame 81/313) /content/yolov10/video.mp4: 384x640 11 cars, 4 buss, 1 truck, 23.1ms\n",
            "video 1/1 (frame 82/313) /content/yolov10/video.mp4: 384x640 11 cars, 4 buss, 1 truck, 23.8ms\n",
            "video 1/1 (frame 83/313) /content/yolov10/video.mp4: 384x640 11 cars, 4 buss, 1 truck, 24.4ms\n",
            "video 1/1 (frame 84/313) /content/yolov10/video.mp4: 384x640 11 cars, 3 buss, 1 truck, 24.4ms\n",
            "video 1/1 (frame 85/313) /content/yolov10/video.mp4: 384x640 11 cars, 4 buss, 1 truck, 23.8ms\n",
            "video 1/1 (frame 86/313) /content/yolov10/video.mp4: 384x640 11 cars, 5 buss, 1 truck, 26.0ms\n",
            "video 1/1 (frame 87/313) /content/yolov10/video.mp4: 384x640 11 cars, 4 buss, 1 truck, 24.1ms\n",
            "video 1/1 (frame 88/313) /content/yolov10/video.mp4: 384x640 12 cars, 4 buss, 1 truck, 24.0ms\n",
            "video 1/1 (frame 89/313) /content/yolov10/video.mp4: 384x640 12 cars, 4 buss, 1 truck, 23.5ms\n",
            "video 1/1 (frame 90/313) /content/yolov10/video.mp4: 384x640 12 cars, 4 buss, 1 truck, 23.2ms\n",
            "video 1/1 (frame 91/313) /content/yolov10/video.mp4: 384x640 12 cars, 4 buss, 1 truck, 24.1ms\n",
            "video 1/1 (frame 92/313) /content/yolov10/video.mp4: 384x640 12 cars, 4 buss, 1 truck, 23.3ms\n",
            "video 1/1 (frame 93/313) /content/yolov10/video.mp4: 384x640 12 cars, 4 buss, 1 truck, 23.6ms\n",
            "video 1/1 (frame 94/313) /content/yolov10/video.mp4: 384x640 11 cars, 4 buss, 1 truck, 24.3ms\n",
            "video 1/1 (frame 95/313) /content/yolov10/video.mp4: 384x640 11 cars, 4 buss, 1 truck, 23.6ms\n",
            "video 1/1 (frame 96/313) /content/yolov10/video.mp4: 384x640 11 cars, 4 buss, 1 truck, 23.0ms\n",
            "video 1/1 (frame 97/313) /content/yolov10/video.mp4: 384x640 1 person, 11 cars, 5 buss, 1 truck, 25.2ms\n",
            "video 1/1 (frame 98/313) /content/yolov10/video.mp4: 384x640 11 cars, 5 buss, 1 truck, 24.5ms\n",
            "video 1/1 (frame 99/313) /content/yolov10/video.mp4: 384x640 11 cars, 5 buss, 1 truck, 27.2ms\n",
            "video 1/1 (frame 100/313) /content/yolov10/video.mp4: 384x640 11 cars, 5 buss, 1 truck, 25.9ms\n",
            "video 1/1 (frame 101/313) /content/yolov10/video.mp4: 384x640 11 cars, 4 buss, 1 truck, 24.0ms\n",
            "video 1/1 (frame 102/313) /content/yolov10/video.mp4: 384x640 11 cars, 4 buss, 1 truck, 29.1ms\n",
            "video 1/1 (frame 103/313) /content/yolov10/video.mp4: 384x640 11 cars, 4 buss, 1 truck, 29.0ms\n",
            "video 1/1 (frame 104/313) /content/yolov10/video.mp4: 384x640 11 cars, 4 buss, 1 truck, 31.4ms\n",
            "video 1/1 (frame 105/313) /content/yolov10/video.mp4: 384x640 11 cars, 4 buss, 1 truck, 24.9ms\n",
            "video 1/1 (frame 106/313) /content/yolov10/video.mp4: 384x640 1 person, 11 cars, 4 buss, 1 truck, 24.1ms\n",
            "video 1/1 (frame 107/313) /content/yolov10/video.mp4: 384x640 12 cars, 4 buss, 1 truck, 28.4ms\n",
            "video 1/1 (frame 108/313) /content/yolov10/video.mp4: 384x640 11 cars, 4 buss, 1 truck, 31.4ms\n",
            "video 1/1 (frame 109/313) /content/yolov10/video.mp4: 384x640 1 person, 11 cars, 4 buss, 1 truck, 28.9ms\n",
            "video 1/1 (frame 110/313) /content/yolov10/video.mp4: 384x640 12 cars, 4 buss, 1 truck, 30.0ms\n",
            "video 1/1 (frame 111/313) /content/yolov10/video.mp4: 384x640 1 person, 12 cars, 4 buss, 1 truck, 40.1ms\n",
            "video 1/1 (frame 112/313) /content/yolov10/video.mp4: 384x640 12 cars, 4 buss, 1 truck, 26.0ms\n",
            "video 1/1 (frame 113/313) /content/yolov10/video.mp4: 384x640 1 person, 11 cars, 4 buss, 1 truck, 23.0ms\n",
            "video 1/1 (frame 114/313) /content/yolov10/video.mp4: 384x640 1 person, 11 cars, 4 buss, 1 truck, 24.0ms\n",
            "video 1/1 (frame 115/313) /content/yolov10/video.mp4: 384x640 1 person, 11 cars, 4 buss, 1 truck, 23.8ms\n",
            "video 1/1 (frame 116/313) /content/yolov10/video.mp4: 384x640 1 person, 12 cars, 4 buss, 1 truck, 24.6ms\n",
            "video 1/1 (frame 117/313) /content/yolov10/video.mp4: 384x640 2 persons, 12 cars, 4 buss, 1 truck, 25.1ms\n",
            "video 1/1 (frame 118/313) /content/yolov10/video.mp4: 384x640 1 person, 12 cars, 4 buss, 1 truck, 27.2ms\n",
            "video 1/1 (frame 119/313) /content/yolov10/video.mp4: 384x640 2 persons, 12 cars, 4 buss, 1 truck, 25.7ms\n",
            "video 1/1 (frame 120/313) /content/yolov10/video.mp4: 384x640 2 persons, 11 cars, 4 buss, 1 truck, 30.1ms\n",
            "video 1/1 (frame 121/313) /content/yolov10/video.mp4: 384x640 1 person, 12 cars, 4 buss, 1 truck, 27.7ms\n",
            "video 1/1 (frame 122/313) /content/yolov10/video.mp4: 384x640 1 person, 12 cars, 4 buss, 1 truck, 35.3ms\n",
            "video 1/1 (frame 123/313) /content/yolov10/video.mp4: 384x640 1 person, 11 cars, 4 buss, 22.5ms\n",
            "video 1/1 (frame 124/313) /content/yolov10/video.mp4: 384x640 1 person, 11 cars, 4 buss, 1 truck, 24.4ms\n",
            "video 1/1 (frame 125/313) /content/yolov10/video.mp4: 384x640 2 persons, 12 cars, 4 buss, 1 truck, 25.0ms\n",
            "video 1/1 (frame 126/313) /content/yolov10/video.mp4: 384x640 2 persons, 11 cars, 4 buss, 1 truck, 25.2ms\n",
            "video 1/1 (frame 127/313) /content/yolov10/video.mp4: 384x640 2 persons, 11 cars, 4 buss, 1 truck, 24.6ms\n",
            "video 1/1 (frame 128/313) /content/yolov10/video.mp4: 384x640 3 persons, 12 cars, 4 buss, 24.5ms\n",
            "video 1/1 (frame 129/313) /content/yolov10/video.mp4: 384x640 2 persons, 12 cars, 4 buss, 25.0ms\n",
            "video 1/1 (frame 130/313) /content/yolov10/video.mp4: 384x640 2 persons, 12 cars, 4 buss, 24.5ms\n",
            "video 1/1 (frame 131/313) /content/yolov10/video.mp4: 384x640 2 persons, 12 cars, 4 buss, 2 trucks, 23.6ms\n",
            "video 1/1 (frame 132/313) /content/yolov10/video.mp4: 384x640 1 person, 12 cars, 4 buss, 24.4ms\n",
            "video 1/1 (frame 133/313) /content/yolov10/video.mp4: 384x640 2 persons, 12 cars, 4 buss, 1 truck, 24.1ms\n",
            "video 1/1 (frame 134/313) /content/yolov10/video.mp4: 384x640 1 person, 12 cars, 4 buss, 1 truck, 23.7ms\n",
            "video 1/1 (frame 135/313) /content/yolov10/video.mp4: 384x640 1 person, 13 cars, 1 motorcycle, 4 buss, 1 truck, 24.0ms\n",
            "video 1/1 (frame 136/313) /content/yolov10/video.mp4: 384x640 1 person, 13 cars, 1 motorcycle, 4 buss, 1 truck, 24.0ms\n",
            "video 1/1 (frame 137/313) /content/yolov10/video.mp4: 384x640 1 person, 13 cars, 1 motorcycle, 4 buss, 24.1ms\n",
            "video 1/1 (frame 138/313) /content/yolov10/video.mp4: 384x640 1 person, 12 cars, 1 motorcycle, 4 buss, 1 truck, 24.1ms\n",
            "video 1/1 (frame 139/313) /content/yolov10/video.mp4: 384x640 1 person, 13 cars, 1 motorcycle, 4 buss, 1 truck, 23.9ms\n",
            "video 1/1 (frame 140/313) /content/yolov10/video.mp4: 384x640 1 person, 13 cars, 1 motorcycle, 4 buss, 23.8ms\n",
            "video 1/1 (frame 141/313) /content/yolov10/video.mp4: 384x640 1 person, 14 cars, 1 motorcycle, 4 buss, 23.8ms\n",
            "video 1/1 (frame 142/313) /content/yolov10/video.mp4: 384x640 1 person, 13 cars, 1 motorcycle, 4 buss, 24.3ms\n",
            "video 1/1 (frame 143/313) /content/yolov10/video.mp4: 384x640 1 person, 14 cars, 1 motorcycle, 4 buss, 23.9ms\n",
            "video 1/1 (frame 144/313) /content/yolov10/video.mp4: 384x640 1 person, 15 cars, 1 motorcycle, 4 buss, 1 truck, 23.9ms\n",
            "video 1/1 (frame 145/313) /content/yolov10/video.mp4: 384x640 1 person, 14 cars, 1 motorcycle, 5 buss, 1 truck, 23.9ms\n",
            "video 1/1 (frame 146/313) /content/yolov10/video.mp4: 384x640 2 persons, 14 cars, 1 motorcycle, 5 buss, 1 truck, 24.2ms\n",
            "video 1/1 (frame 147/313) /content/yolov10/video.mp4: 384x640 1 person, 14 cars, 1 motorcycle, 4 buss, 1 truck, 24.0ms\n",
            "video 1/1 (frame 148/313) /content/yolov10/video.mp4: 384x640 2 persons, 14 cars, 1 motorcycle, 4 buss, 1 truck, 23.9ms\n",
            "video 1/1 (frame 149/313) /content/yolov10/video.mp4: 384x640 2 persons, 14 cars, 1 motorcycle, 5 buss, 1 truck, 23.9ms\n",
            "video 1/1 (frame 150/313) /content/yolov10/video.mp4: 384x640 2 persons, 14 cars, 1 motorcycle, 4 buss, 1 truck, 23.8ms\n",
            "video 1/1 (frame 151/313) /content/yolov10/video.mp4: 384x640 1 person, 14 cars, 1 motorcycle, 4 buss, 1 truck, 23.9ms\n",
            "video 1/1 (frame 152/313) /content/yolov10/video.mp4: 384x640 1 person, 14 cars, 1 motorcycle, 5 buss, 2 trucks, 23.9ms\n",
            "video 1/1 (frame 153/313) /content/yolov10/video.mp4: 384x640 1 person, 13 cars, 1 motorcycle, 4 buss, 1 truck, 23.9ms\n",
            "video 1/1 (frame 154/313) /content/yolov10/video.mp4: 384x640 1 person, 14 cars, 1 motorcycle, 4 buss, 1 truck, 23.9ms\n",
            "video 1/1 (frame 155/313) /content/yolov10/video.mp4: 384x640 1 person, 14 cars, 1 motorcycle, 4 buss, 2 trucks, 24.0ms\n",
            "video 1/1 (frame 156/313) /content/yolov10/video.mp4: 384x640 1 person, 12 cars, 1 motorcycle, 4 buss, 2 trucks, 23.9ms\n",
            "video 1/1 (frame 157/313) /content/yolov10/video.mp4: 384x640 1 person, 12 cars, 1 motorcycle, 4 buss, 2 trucks, 23.5ms\n",
            "video 1/1 (frame 158/313) /content/yolov10/video.mp4: 384x640 1 person, 12 cars, 1 motorcycle, 4 buss, 2 trucks, 23.4ms\n",
            "video 1/1 (frame 159/313) /content/yolov10/video.mp4: 384x640 1 person, 12 cars, 1 motorcycle, 4 buss, 2 trucks, 23.9ms\n",
            "video 1/1 (frame 160/313) /content/yolov10/video.mp4: 384x640 1 person, 12 cars, 1 motorcycle, 4 buss, 1 truck, 23.7ms\n",
            "video 1/1 (frame 161/313) /content/yolov10/video.mp4: 384x640 1 person, 12 cars, 1 motorcycle, 3 buss, 2 trucks, 23.9ms\n",
            "video 1/1 (frame 162/313) /content/yolov10/video.mp4: 384x640 1 person, 12 cars, 1 motorcycle, 3 buss, 2 trucks, 24.1ms\n",
            "video 1/1 (frame 163/313) /content/yolov10/video.mp4: 384x640 1 person, 13 cars, 1 motorcycle, 4 buss, 2 trucks, 24.0ms\n",
            "video 1/1 (frame 164/313) /content/yolov10/video.mp4: 384x640 1 person, 12 cars, 1 motorcycle, 3 buss, 2 trucks, 24.0ms\n",
            "video 1/1 (frame 165/313) /content/yolov10/video.mp4: 384x640 1 person, 12 cars, 1 motorcycle, 4 buss, 2 trucks, 23.8ms\n",
            "video 1/1 (frame 166/313) /content/yolov10/video.mp4: 384x640 1 person, 13 cars, 1 motorcycle, 4 buss, 2 trucks, 23.7ms\n",
            "video 1/1 (frame 167/313) /content/yolov10/video.mp4: 384x640 1 person, 13 cars, 1 motorcycle, 4 buss, 2 trucks, 24.3ms\n",
            "video 1/1 (frame 168/313) /content/yolov10/video.mp4: 384x640 1 person, 13 cars, 1 motorcycle, 4 buss, 2 trucks, 24.3ms\n",
            "video 1/1 (frame 169/313) /content/yolov10/video.mp4: 384x640 1 person, 15 cars, 1 motorcycle, 4 buss, 2 trucks, 24.3ms\n",
            "video 1/1 (frame 170/313) /content/yolov10/video.mp4: 384x640 1 person, 14 cars, 1 motorcycle, 4 buss, 2 trucks, 24.2ms\n",
            "video 1/1 (frame 171/313) /content/yolov10/video.mp4: 384x640 1 person, 15 cars, 1 motorcycle, 4 buss, 2 trucks, 23.9ms\n",
            "video 1/1 (frame 172/313) /content/yolov10/video.mp4: 384x640 2 persons, 15 cars, 1 motorcycle, 3 buss, 1 truck, 24.3ms\n",
            "video 1/1 (frame 173/313) /content/yolov10/video.mp4: 384x640 2 persons, 14 cars, 1 motorcycle, 3 buss, 1 truck, 23.9ms\n",
            "video 1/1 (frame 174/313) /content/yolov10/video.mp4: 384x640 2 persons, 13 cars, 1 motorcycle, 3 buss, 2 trucks, 24.3ms\n",
            "video 1/1 (frame 175/313) /content/yolov10/video.mp4: 384x640 2 persons, 14 cars, 2 motorcycles, 3 buss, 2 trucks, 24.5ms\n",
            "video 1/1 (frame 176/313) /content/yolov10/video.mp4: 384x640 3 persons, 13 cars, 1 motorcycle, 3 buss, 2 trucks, 24.2ms\n",
            "video 1/1 (frame 177/313) /content/yolov10/video.mp4: 384x640 3 persons, 13 cars, 2 motorcycles, 3 buss, 2 trucks, 24.3ms\n",
            "video 1/1 (frame 178/313) /content/yolov10/video.mp4: 384x640 3 persons, 14 cars, 2 motorcycles, 3 buss, 2 trucks, 24.5ms\n",
            "video 1/1 (frame 179/313) /content/yolov10/video.mp4: 384x640 3 persons, 14 cars, 1 motorcycle, 3 buss, 2 trucks, 24.2ms\n",
            "video 1/1 (frame 180/313) /content/yolov10/video.mp4: 384x640 3 persons, 14 cars, 1 motorcycle, 3 buss, 2 trucks, 23.9ms\n",
            "video 1/1 (frame 181/313) /content/yolov10/video.mp4: 384x640 2 persons, 15 cars, 1 motorcycle, 3 buss, 2 trucks, 24.3ms\n",
            "video 1/1 (frame 182/313) /content/yolov10/video.mp4: 384x640 2 persons, 14 cars, 1 motorcycle, 3 buss, 2 trucks, 24.5ms\n",
            "video 1/1 (frame 183/313) /content/yolov10/video.mp4: 384x640 3 persons, 14 cars, 1 motorcycle, 3 buss, 2 trucks, 23.9ms\n",
            "video 1/1 (frame 184/313) /content/yolov10/video.mp4: 384x640 1 person, 14 cars, 1 motorcycle, 3 buss, 2 trucks, 23.8ms\n",
            "video 1/1 (frame 185/313) /content/yolov10/video.mp4: 384x640 2 persons, 14 cars, 1 motorcycle, 4 buss, 2 trucks, 23.8ms\n",
            "video 1/1 (frame 186/313) /content/yolov10/video.mp4: 384x640 1 person, 14 cars, 1 motorcycle, 3 buss, 2 trucks, 23.9ms\n",
            "video 1/1 (frame 187/313) /content/yolov10/video.mp4: 384x640 1 person, 14 cars, 1 motorcycle, 3 buss, 2 trucks, 24.3ms\n",
            "video 1/1 (frame 188/313) /content/yolov10/video.mp4: 384x640 1 person, 14 cars, 1 motorcycle, 4 buss, 2 trucks, 24.5ms\n",
            "video 1/1 (frame 189/313) /content/yolov10/video.mp4: 384x640 1 person, 15 cars, 1 motorcycle, 5 buss, 2 trucks, 24.2ms\n",
            "video 1/1 (frame 190/313) /content/yolov10/video.mp4: 384x640 1 person, 14 cars, 1 motorcycle, 5 buss, 2 trucks, 24.0ms\n",
            "video 1/1 (frame 191/313) /content/yolov10/video.mp4: 384x640 3 persons, 14 cars, 1 motorcycle, 5 buss, 2 trucks, 23.9ms\n",
            "video 1/1 (frame 192/313) /content/yolov10/video.mp4: 384x640 2 persons, 14 cars, 1 motorcycle, 6 buss, 1 truck, 24.2ms\n",
            "video 1/1 (frame 193/313) /content/yolov10/video.mp4: 384x640 4 persons, 14 cars, 1 motorcycle, 6 buss, 1 truck, 23.8ms\n",
            "video 1/1 (frame 194/313) /content/yolov10/video.mp4: 384x640 2 persons, 14 cars, 1 motorcycle, 5 buss, 1 truck, 23.9ms\n",
            "video 1/1 (frame 195/313) /content/yolov10/video.mp4: 384x640 2 persons, 15 cars, 1 motorcycle, 4 buss, 1 truck, 24.0ms\n",
            "video 1/1 (frame 196/313) /content/yolov10/video.mp4: 384x640 2 persons, 16 cars, 1 motorcycle, 5 buss, 1 truck, 23.9ms\n",
            "video 1/1 (frame 197/313) /content/yolov10/video.mp4: 384x640 2 persons, 14 cars, 1 motorcycle, 5 buss, 1 truck, 25.6ms\n",
            "video 1/1 (frame 198/313) /content/yolov10/video.mp4: 384x640 2 persons, 16 cars, 1 motorcycle, 5 buss, 1 truck, 23.2ms\n",
            "video 1/1 (frame 199/313) /content/yolov10/video.mp4: 384x640 2 persons, 14 cars, 1 motorcycle, 5 buss, 1 truck, 24.0ms\n",
            "video 1/1 (frame 200/313) /content/yolov10/video.mp4: 384x640 2 persons, 14 cars, 1 motorcycle, 5 buss, 1 truck, 23.7ms\n",
            "video 1/1 (frame 201/313) /content/yolov10/video.mp4: 384x640 2 persons, 14 cars, 1 motorcycle, 5 buss, 1 truck, 23.6ms\n",
            "video 1/1 (frame 202/313) /content/yolov10/video.mp4: 384x640 2 persons, 14 cars, 1 motorcycle, 5 buss, 1 truck, 23.9ms\n",
            "video 1/1 (frame 203/313) /content/yolov10/video.mp4: 384x640 2 persons, 14 cars, 1 motorcycle, 5 buss, 1 truck, 23.9ms\n",
            "video 1/1 (frame 204/313) /content/yolov10/video.mp4: 384x640 2 persons, 14 cars, 1 motorcycle, 5 buss, 23.9ms\n",
            "video 1/1 (frame 205/313) /content/yolov10/video.mp4: 384x640 2 persons, 14 cars, 1 motorcycle, 5 buss, 23.9ms\n",
            "video 1/1 (frame 206/313) /content/yolov10/video.mp4: 384x640 3 persons, 14 cars, 1 motorcycle, 4 buss, 24.3ms\n",
            "video 1/1 (frame 207/313) /content/yolov10/video.mp4: 384x640 3 persons, 14 cars, 1 motorcycle, 5 buss, 24.1ms\n",
            "video 1/1 (frame 208/313) /content/yolov10/video.mp4: 384x640 3 persons, 14 cars, 1 motorcycle, 5 buss, 23.7ms\n",
            "video 1/1 (frame 209/313) /content/yolov10/video.mp4: 384x640 2 persons, 14 cars, 1 motorcycle, 4 buss, 1 truck, 24.0ms\n",
            "video 1/1 (frame 210/313) /content/yolov10/video.mp4: 384x640 2 persons, 14 cars, 1 motorcycle, 5 buss, 1 truck, 23.9ms\n",
            "video 1/1 (frame 211/313) /content/yolov10/video.mp4: 384x640 3 persons, 14 cars, 1 motorcycle, 5 buss, 23.7ms\n",
            "video 1/1 (frame 212/313) /content/yolov10/video.mp4: 384x640 2 persons, 14 cars, 1 motorcycle, 5 buss, 24.3ms\n",
            "video 1/1 (frame 213/313) /content/yolov10/video.mp4: 384x640 2 persons, 15 cars, 1 motorcycle, 5 buss, 24.2ms\n",
            "video 1/1 (frame 214/313) /content/yolov10/video.mp4: 384x640 2 persons, 16 cars, 1 motorcycle, 5 buss, 1 truck, 24.2ms\n",
            "video 1/1 (frame 215/313) /content/yolov10/video.mp4: 384x640 2 persons, 15 cars, 1 motorcycle, 5 buss, 1 truck, 23.9ms\n",
            "video 1/1 (frame 216/313) /content/yolov10/video.mp4: 384x640 2 persons, 15 cars, 1 motorcycle, 4 buss, 1 truck, 23.9ms\n",
            "video 1/1 (frame 217/313) /content/yolov10/video.mp4: 384x640 2 persons, 14 cars, 1 motorcycle, 4 buss, 23.9ms\n",
            "video 1/1 (frame 218/313) /content/yolov10/video.mp4: 384x640 2 persons, 14 cars, 1 motorcycle, 5 buss, 1 truck, 23.9ms\n",
            "video 1/1 (frame 219/313) /content/yolov10/video.mp4: 384x640 2 persons, 14 cars, 1 motorcycle, 5 buss, 1 truck, 24.3ms\n",
            "video 1/1 (frame 220/313) /content/yolov10/video.mp4: 384x640 2 persons, 14 cars, 1 motorcycle, 5 buss, 1 truck, 24.2ms\n",
            "video 1/1 (frame 221/313) /content/yolov10/video.mp4: 384x640 2 persons, 15 cars, 1 motorcycle, 4 buss, 1 truck, 23.7ms\n",
            "video 1/1 (frame 222/313) /content/yolov10/video.mp4: 384x640 2 persons, 14 cars, 1 motorcycle, 3 buss, 23.9ms\n",
            "video 1/1 (frame 223/313) /content/yolov10/video.mp4: 384x640 2 persons, 13 cars, 1 motorcycle, 4 buss, 23.9ms\n",
            "video 1/1 (frame 224/313) /content/yolov10/video.mp4: 384x640 2 persons, 15 cars, 1 motorcycle, 4 buss, 1 truck, 23.9ms\n",
            "video 1/1 (frame 225/313) /content/yolov10/video.mp4: 384x640 2 persons, 16 cars, 1 motorcycle, 4 buss, 1 truck, 24.3ms\n",
            "video 1/1 (frame 226/313) /content/yolov10/video.mp4: 384x640 2 persons, 15 cars, 1 motorcycle, 5 buss, 1 truck, 23.9ms\n",
            "video 1/1 (frame 227/313) /content/yolov10/video.mp4: 384x640 2 persons, 14 cars, 1 motorcycle, 4 buss, 1 truck, 23.9ms\n",
            "video 1/1 (frame 228/313) /content/yolov10/video.mp4: 384x640 2 persons, 14 cars, 1 motorcycle, 5 buss, 1 truck, 23.8ms\n",
            "video 1/1 (frame 229/313) /content/yolov10/video.mp4: 384x640 2 persons, 16 cars, 1 motorcycle, 5 buss, 1 truck, 23.9ms\n",
            "video 1/1 (frame 230/313) /content/yolov10/video.mp4: 384x640 2 persons, 16 cars, 1 motorcycle, 5 buss, 23.8ms\n",
            "video 1/1 (frame 231/313) /content/yolov10/video.mp4: 384x640 2 persons, 14 cars, 1 motorcycle, 5 buss, 23.8ms\n",
            "video 1/1 (frame 232/313) /content/yolov10/video.mp4: 384x640 2 persons, 15 cars, 1 motorcycle, 5 buss, 1 truck, 23.8ms\n",
            "video 1/1 (frame 233/313) /content/yolov10/video.mp4: 384x640 2 persons, 14 cars, 1 motorcycle, 5 buss, 23.5ms\n",
            "video 1/1 (frame 234/313) /content/yolov10/video.mp4: 384x640 2 persons, 17 cars, 1 motorcycle, 5 buss, 1 truck, 23.9ms\n",
            "video 1/1 (frame 235/313) /content/yolov10/video.mp4: 384x640 2 persons, 16 cars, 1 motorcycle, 4 buss, 1 truck, 24.0ms\n",
            "video 1/1 (frame 236/313) /content/yolov10/video.mp4: 384x640 2 persons, 15 cars, 1 motorcycle, 4 buss, 1 truck, 24.1ms\n",
            "video 1/1 (frame 237/313) /content/yolov10/video.mp4: 384x640 2 persons, 15 cars, 1 motorcycle, 4 buss, 24.3ms\n",
            "video 1/1 (frame 238/313) /content/yolov10/video.mp4: 384x640 2 persons, 16 cars, 1 motorcycle, 4 buss, 24.3ms\n",
            "video 1/1 (frame 239/313) /content/yolov10/video.mp4: 384x640 2 persons, 15 cars, 1 motorcycle, 4 buss, 24.0ms\n",
            "video 1/1 (frame 240/313) /content/yolov10/video.mp4: 384x640 2 persons, 15 cars, 1 motorcycle, 4 buss, 24.1ms\n",
            "video 1/1 (frame 241/313) /content/yolov10/video.mp4: 384x640 3 persons, 16 cars, 1 motorcycle, 4 buss, 23.8ms\n",
            "video 1/1 (frame 242/313) /content/yolov10/video.mp4: 384x640 3 persons, 15 cars, 1 motorcycle, 5 buss, 24.0ms\n",
            "video 1/1 (frame 243/313) /content/yolov10/video.mp4: 384x640 3 persons, 12 cars, 1 motorcycle, 5 buss, 23.9ms\n",
            "video 1/1 (frame 244/313) /content/yolov10/video.mp4: 384x640 3 persons, 12 cars, 1 motorcycle, 5 buss, 23.9ms\n",
            "video 1/1 (frame 245/313) /content/yolov10/video.mp4: 384x640 3 persons, 13 cars, 1 motorcycle, 4 buss, 24.0ms\n",
            "video 1/1 (frame 246/313) /content/yolov10/video.mp4: 384x640 2 persons, 12 cars, 1 motorcycle, 4 buss, 24.1ms\n",
            "video 1/1 (frame 247/313) /content/yolov10/video.mp4: 384x640 3 persons, 12 cars, 1 motorcycle, 4 buss, 24.0ms\n",
            "video 1/1 (frame 248/313) /content/yolov10/video.mp4: 384x640 2 persons, 14 cars, 1 motorcycle, 4 buss, 24.0ms\n",
            "video 1/1 (frame 249/313) /content/yolov10/video.mp4: 384x640 3 persons, 13 cars, 1 motorcycle, 4 buss, 23.9ms\n",
            "video 1/1 (frame 250/313) /content/yolov10/video.mp4: 384x640 2 persons, 14 cars, 1 motorcycle, 4 buss, 24.3ms\n",
            "video 1/1 (frame 251/313) /content/yolov10/video.mp4: 384x640 2 persons, 14 cars, 1 motorcycle, 4 buss, 24.2ms\n",
            "video 1/1 (frame 252/313) /content/yolov10/video.mp4: 384x640 2 persons, 14 cars, 1 motorcycle, 4 buss, 24.3ms\n",
            "video 1/1 (frame 253/313) /content/yolov10/video.mp4: 384x640 2 persons, 15 cars, 1 motorcycle, 4 buss, 23.9ms\n",
            "video 1/1 (frame 254/313) /content/yolov10/video.mp4: 384x640 3 persons, 13 cars, 1 motorcycle, 4 buss, 24.3ms\n",
            "video 1/1 (frame 255/313) /content/yolov10/video.mp4: 384x640 3 persons, 12 cars, 1 motorcycle, 4 buss, 24.3ms\n",
            "video 1/1 (frame 256/313) /content/yolov10/video.mp4: 384x640 3 persons, 13 cars, 1 motorcycle, 4 buss, 24.6ms\n",
            "video 1/1 (frame 257/313) /content/yolov10/video.mp4: 384x640 3 persons, 12 cars, 1 motorcycle, 4 buss, 24.6ms\n",
            "video 1/1 (frame 258/313) /content/yolov10/video.mp4: 384x640 2 persons, 14 cars, 1 motorcycle, 4 buss, 24.3ms\n",
            "video 1/1 (frame 259/313) /content/yolov10/video.mp4: 384x640 4 persons, 12 cars, 1 motorcycle, 4 buss, 24.6ms\n",
            "video 1/1 (frame 260/313) /content/yolov10/video.mp4: 384x640 3 persons, 12 cars, 1 motorcycle, 5 buss, 24.4ms\n",
            "video 1/1 (frame 261/313) /content/yolov10/video.mp4: 384x640 1 person, 12 cars, 1 motorcycle, 4 buss, 24.5ms\n",
            "video 1/1 (frame 262/313) /content/yolov10/video.mp4: 384x640 1 person, 14 cars, 1 motorcycle, 4 buss, 24.6ms\n",
            "video 1/1 (frame 263/313) /content/yolov10/video.mp4: 384x640 2 persons, 14 cars, 1 motorcycle, 4 buss, 24.9ms\n",
            "video 1/1 (frame 264/313) /content/yolov10/video.mp4: 384x640 1 person, 14 cars, 1 motorcycle, 4 buss, 24.8ms\n",
            "video 1/1 (frame 265/313) /content/yolov10/video.mp4: 384x640 3 persons, 14 cars, 1 motorcycle, 4 buss, 24.7ms\n",
            "video 1/1 (frame 266/313) /content/yolov10/video.mp4: 384x640 1 person, 13 cars, 1 motorcycle, 4 buss, 24.8ms\n",
            "video 1/1 (frame 267/313) /content/yolov10/video.mp4: 384x640 2 persons, 13 cars, 1 motorcycle, 4 buss, 24.8ms\n",
            "video 1/1 (frame 268/313) /content/yolov10/video.mp4: 384x640 1 person, 14 cars, 1 motorcycle, 4 buss, 25.2ms\n",
            "video 1/1 (frame 269/313) /content/yolov10/video.mp4: 384x640 2 persons, 13 cars, 1 motorcycle, 4 buss, 24.9ms\n",
            "video 1/1 (frame 270/313) /content/yolov10/video.mp4: 384x640 2 persons, 14 cars, 1 motorcycle, 4 buss, 25.0ms\n",
            "video 1/1 (frame 271/313) /content/yolov10/video.mp4: 384x640 1 person, 14 cars, 1 motorcycle, 4 buss, 25.1ms\n",
            "video 1/1 (frame 272/313) /content/yolov10/video.mp4: 384x640 2 persons, 13 cars, 1 motorcycle, 4 buss, 25.0ms\n",
            "video 1/1 (frame 273/313) /content/yolov10/video.mp4: 384x640 2 persons, 13 cars, 1 motorcycle, 4 buss, 24.7ms\n",
            "video 1/1 (frame 274/313) /content/yolov10/video.mp4: 384x640 1 person, 11 cars, 1 motorcycle, 4 buss, 24.1ms\n",
            "video 1/1 (frame 275/313) /content/yolov10/video.mp4: 384x640 1 person, 12 cars, 1 motorcycle, 4 buss, 24.5ms\n",
            "video 1/1 (frame 276/313) /content/yolov10/video.mp4: 384x640 11 cars, 1 motorcycle, 4 buss, 25.2ms\n",
            "video 1/1 (frame 277/313) /content/yolov10/video.mp4: 384x640 11 cars, 1 motorcycle, 4 buss, 25.5ms\n",
            "video 1/1 (frame 278/313) /content/yolov10/video.mp4: 384x640 1 person, 10 cars, 1 motorcycle, 4 buss, 25.2ms\n",
            "video 1/1 (frame 279/313) /content/yolov10/video.mp4: 384x640 3 persons, 11 cars, 1 motorcycle, 4 buss, 24.8ms\n",
            "video 1/1 (frame 280/313) /content/yolov10/video.mp4: 384x640 2 persons, 10 cars, 1 motorcycle, 4 buss, 24.7ms\n",
            "video 1/1 (frame 281/313) /content/yolov10/video.mp4: 384x640 2 persons, 12 cars, 1 motorcycle, 4 buss, 24.7ms\n",
            "video 1/1 (frame 282/313) /content/yolov10/video.mp4: 384x640 2 persons, 10 cars, 2 motorcycles, 4 buss, 24.8ms\n",
            "video 1/1 (frame 283/313) /content/yolov10/video.mp4: 384x640 2 persons, 11 cars, 1 motorcycle, 4 buss, 23.7ms\n",
            "video 1/1 (frame 284/313) /content/yolov10/video.mp4: 384x640 1 person, 12 cars, 1 motorcycle, 4 buss, 25.2ms\n",
            "video 1/1 (frame 285/313) /content/yolov10/video.mp4: 384x640 1 person, 12 cars, 1 motorcycle, 4 buss, 24.9ms\n",
            "video 1/1 (frame 286/313) /content/yolov10/video.mp4: 384x640 1 person, 12 cars, 1 motorcycle, 4 buss, 25.4ms\n",
            "video 1/1 (frame 287/313) /content/yolov10/video.mp4: 384x640 2 persons, 12 cars, 1 motorcycle, 4 buss, 25.6ms\n",
            "video 1/1 (frame 288/313) /content/yolov10/video.mp4: 384x640 1 person, 12 cars, 1 motorcycle, 4 buss, 25.0ms\n",
            "video 1/1 (frame 289/313) /content/yolov10/video.mp4: 384x640 2 persons, 12 cars, 1 motorcycle, 4 buss, 24.5ms\n",
            "video 1/1 (frame 290/313) /content/yolov10/video.mp4: 384x640 1 person, 12 cars, 1 motorcycle, 4 buss, 24.8ms\n",
            "video 1/1 (frame 291/313) /content/yolov10/video.mp4: 384x640 1 person, 13 cars, 1 motorcycle, 4 buss, 25.0ms\n",
            "video 1/1 (frame 292/313) /content/yolov10/video.mp4: 384x640 1 person, 12 cars, 1 motorcycle, 4 buss, 24.6ms\n",
            "video 1/1 (frame 293/313) /content/yolov10/video.mp4: 384x640 1 person, 11 cars, 1 motorcycle, 4 buss, 24.5ms\n",
            "video 1/1 (frame 294/313) /content/yolov10/video.mp4: 384x640 1 person, 10 cars, 1 motorcycle, 4 buss, 24.7ms\n",
            "video 1/1 (frame 295/313) /content/yolov10/video.mp4: 384x640 1 person, 10 cars, 1 motorcycle, 4 buss, 24.7ms\n",
            "video 1/1 (frame 296/313) /content/yolov10/video.mp4: 384x640 1 person, 10 cars, 4 buss, 23.9ms\n",
            "video 1/1 (frame 297/313) /content/yolov10/video.mp4: 384x640 1 person, 11 cars, 1 motorcycle, 4 buss, 23.8ms\n",
            "video 1/1 (frame 298/313) /content/yolov10/video.mp4: 384x640 1 person, 11 cars, 1 motorcycle, 4 buss, 23.9ms\n",
            "video 1/1 (frame 299/313) /content/yolov10/video.mp4: 384x640 1 person, 11 cars, 1 motorcycle, 4 buss, 24.5ms\n",
            "video 1/1 (frame 300/313) /content/yolov10/video.mp4: 384x640 1 person, 12 cars, 1 motorcycle, 4 buss, 24.6ms\n",
            "video 1/1 (frame 301/313) /content/yolov10/video.mp4: 384x640 2 persons, 13 cars, 1 motorcycle, 4 buss, 24.8ms\n",
            "video 1/1 (frame 302/313) /content/yolov10/video.mp4: 384x640 2 persons, 13 cars, 1 motorcycle, 4 buss, 24.8ms\n",
            "video 1/1 (frame 303/313) /content/yolov10/video.mp4: 384x640 3 persons, 12 cars, 1 motorcycle, 4 buss, 24.9ms\n",
            "video 1/1 (frame 304/313) /content/yolov10/video.mp4: 384x640 3 persons, 12 cars, 1 motorcycle, 4 buss, 24.9ms\n",
            "video 1/1 (frame 305/313) /content/yolov10/video.mp4: 384x640 3 persons, 12 cars, 1 motorcycle, 4 buss, 25.1ms\n",
            "video 1/1 (frame 306/313) /content/yolov10/video.mp4: 384x640 4 persons, 12 cars, 1 motorcycle, 4 buss, 24.8ms\n",
            "video 1/1 (frame 307/313) /content/yolov10/video.mp4: 384x640 2 persons, 12 cars, 1 motorcycle, 4 buss, 25.1ms\n",
            "video 1/1 (frame 308/313) /content/yolov10/video.mp4: 384x640 3 persons, 13 cars, 4 buss, 25.2ms\n",
            "video 1/1 (frame 309/313) /content/yolov10/video.mp4: 384x640 2 persons, 13 cars, 4 buss, 24.5ms\n",
            "video 1/1 (frame 310/313) /content/yolov10/video.mp4: 384x640 2 persons, 13 cars, 1 motorcycle, 4 buss, 24.8ms\n",
            "video 1/1 (frame 311/313) /content/yolov10/video.mp4: 384x640 2 persons, 14 cars, 1 motorcycle, 4 buss, 25.3ms\n",
            "video 1/1 (frame 312/313) /content/yolov10/video.mp4: 384x640 1 person, 14 cars, 1 motorcycle, 4 buss, 25.5ms\n",
            "video 1/1 (frame 313/313) /content/yolov10/video.mp4: 384x640 3 persons, 16 cars, 1 motorcycle, 4 buss, 25.4ms\n",
            "Speed: 2.3ms preprocess, 25.3ms inference, 1.6ms postprocess per image at shape (1, 3, 384, 640)\n",
            "Results saved to \u001b[1mruns/detect/predict2\u001b[0m\n",
            "💡 Learn more at https://docs.ultralytics.com/modes/predict\n"
          ]
        }
      ]
    },
    {
      "cell_type": "code",
      "source": [
        "save_path=\"/content/yolov10/runs/detect/predict2/video.avi\""
      ],
      "metadata": {
        "id": "nk0n1WpIJT4G"
      },
      "execution_count": 27,
      "outputs": []
    },
    {
      "cell_type": "code",
      "source": [],
      "metadata": {
        "id": "46MDHNnrJb37"
      },
      "execution_count": 26,
      "outputs": []
    },
    {
      "cell_type": "code",
      "source": [],
      "metadata": {
        "id": "71ME8mbdLkA7"
      },
      "execution_count": null,
      "outputs": []
    }
  ]
}